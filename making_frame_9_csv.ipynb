{
  "nbformat": 4,
  "nbformat_minor": 0,
  "metadata": {
    "colab": {
      "provenance": []
    },
    "kernelspec": {
      "name": "python3",
      "display_name": "Python 3"
    },
    "language_info": {
      "name": "python"
    }
  },
  "cells": [
    {
      "cell_type": "markdown",
      "source": [
        "\n",
        "This will not work here, but will work if you copy it over to kaggle.\n"
      ],
      "metadata": {
        "id": "MzCmz43YdhbN"
      }
    },
    {
      "cell_type": "code",
      "source": [
        "import pandas as pd\n",
        "import numpy as np\n",
        "import re"
      ],
      "metadata": {
        "id": "pWTyZJufdMJL"
      },
      "execution_count": null,
      "outputs": []
    },
    {
      "cell_type": "code",
      "execution_count": null,
      "metadata": {
        "id": "7pCmrd5TdGH8"
      },
      "outputs": [],
      "source": [
        "train_df = pd.read_csv(\"/kaggle/input/asl-fingerspelling/train.csv\")"
      ]
    },
    {
      "cell_type": "markdown",
      "source": [
        "This appends a new column to train_df with the first character of each phrase."
      ],
      "metadata": {
        "id": "lCRqbuozdaN1"
      }
    },
    {
      "cell_type": "code",
      "source": [
        "train_df['first-character'] = train_df['phrase'].str[0]\n",
        "train_df.head()"
      ],
      "metadata": {
        "id": "JID0oxICdJ05"
      },
      "execution_count": null,
      "outputs": []
    },
    {
      "cell_type": "markdown",
      "source": [
        "Getting a single frame of one video so I have the structure of a frame to work with:"
      ],
      "metadata": {
        "id": "c-nxTDhMd1Z5"
      }
    },
    {
      "cell_type": "code",
      "source": [
        "path_to_play = f\"/kaggle/input/asl-fingerspelling/train_landmarks/{5414471}.parquet\"\n",
        "play = pd.read_parquet(path_to_play, filters = [('frame', '=', 9), ('sequence_id', '=', 1816796431)])"
      ],
      "metadata": {
        "id": "glnmGEvVdYmQ"
      },
      "execution_count": null,
      "outputs": []
    },
    {
      "cell_type": "markdown",
      "source": [
        "This is how I made frame-9-data.csv\n",
        "\n",
        "i iterates through each row in train_df (in other words, each i corresponds to a unique phrase).\n",
        "\n",
        "path_to_play is the path to the train_landmark associated with the phrase i.\n",
        "\n",
        "new_frame is the 9th frame of that train_landmark.  Note that I only pull the frame_and_hand_cols for this frame.  I also replace all NaNs with 0 at this stage.\n",
        "\n",
        "I then add the new_frame to the array play.  Since new_frame doesn't currently have one-hot encoded features, but the initial play does have those features, they are inititializes as NaNs.\n",
        "\n",
        "Then I update the one-hot encoded features of play to match the first character of phrase i.\n",
        "\n",
        "Finally I replace the other NaNs with 0s."
      ],
      "metadata": {
        "id": "tvtosEpSeQZ6"
      }
    },
    {
      "cell_type": "code",
      "source": [
        "for i in range(len(train_df.index)):\n",
        "        print(i)\n",
        "        path_to_play = f\"/kaggle/input/asl-fingerspelling/train_landmarks/{train_df.iloc[i,1]}.parquet\"\n",
        "        new_frame = pd.read_parquet(path_to_play, columns = frame_and_hand_cols, filters = [('frame', '=', 9), ('sequence_id', '=', train_df.iloc[i,2])]).fillna(0)\n",
        "        play = pd.concat([play,new_frame])\n",
        "        play.at[train_df.iloc[i,2], train_df['first-character'][i]] = 1\n",
        "        play = play.fillna(0)"
      ],
      "metadata": {
        "id": "UJ0UzklEeFB0"
      },
      "execution_count": null,
      "outputs": []
    },
    {
      "cell_type": "markdown",
      "source": [
        "Once this finished processing (which took about 3 hours!) I saved it as a csv file."
      ],
      "metadata": {
        "id": "oSY5-xxDf86O"
      }
    },
    {
      "cell_type": "code",
      "source": [
        "play.to_csv('frame-9-data')"
      ],
      "metadata": {
        "id": "xs9YcUETeNf8"
      },
      "execution_count": null,
      "outputs": []
    }
  ]
}